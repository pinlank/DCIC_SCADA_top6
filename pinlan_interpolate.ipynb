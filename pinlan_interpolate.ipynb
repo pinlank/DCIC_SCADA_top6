{
 "cells": [
  {
   "cell_type": "code",
   "execution_count": 2,
   "metadata": {},
   "outputs": [],
   "source": [
    "import pandas as pd\n",
    "import numpy as np\n",
    "import os\n",
    "import gc\n",
    "import sys\n",
    "from tqdm import *\n",
    "import time\n",
    "import xgboost as xgb\n",
    "import matplotlib.pyplot as plt\n",
    "%matplotlib inline\n",
    "from collections import Counter, defaultdict\n",
    "import itertools\n",
    "from sklearn.metrics import accuracy_score"
   ]
  },
  {
   "cell_type": "code",
   "execution_count": 3,
   "metadata": {},
   "outputs": [],
   "source": [
    "def precise(y,y_pred,k):\n",
    "    f = np.exp(-k*np.abs(y-y_pred)/np.maximum(np.abs(y),10**(-15)))\n",
    "    return f"
   ]
  },
  {
   "cell_type": "code",
   "execution_count": 4,
   "metadata": {},
   "outputs": [],
   "source": [
    "sub = pd.read_csv('../data/template_submit_result.csv', parse_dates=['ts'])\n",
    "col = sub.columns.tolist()\n",
    "index = ['ts', 'wtid']\n",
    "enum_col = ['var016', 'var020', 'var047']\n",
    "bool_col = ['var053', 'var066']\n",
    "double_col = [i for i in col if i not in index+enum_col+bool_col]"
   ]
  },
  {
   "cell_type": "code",
   "execution_count": 5,
   "metadata": {},
   "outputs": [],
   "source": [
    "try:\n",
    "    rule = pd.read_csv('../data/rule33.csv')\n",
    "except:\n",
    "    %%time\n",
    "    freq = defaultdict(list)\n",
    "    path = '../data/dataset/'\n",
    "    for i,j in tqdm(enumerate(os.listdir(path))):\n",
    "        f_path = path + j + '/201807.csv'\n",
    "        wtid_v = int(i + 1)\n",
    "        data = pd.read_csv(f_path, parse_dates=['ts'])\n",
    "\n",
    "        sub_1 = sub[sub['wtid'] == wtid_v]\n",
    "        ts_v = list(set(data['ts'].values)&set(sub_1['ts'].values))\n",
    "        submit = sub_1[~sub_1['ts'].isin(ts_v)]\n",
    "        data = pd.concat([data,submit],axis=0)\n",
    "        data = data.sort_values(by=['ts']).reset_index(drop=True)    \n",
    "        for col in data.columns[2:]:\n",
    "            mylist = data[col]\n",
    "            mylist_mode_ratio = mylist.value_counts()/359000\n",
    "            m1_score = precise(data[col], mylist.min(), 100).mean()\n",
    "            m2_score = precise(data[col], mylist.mean(), 100).mean()\n",
    "            m3_score = precise(data[col], mylist.median(), 100).mean()\n",
    "            m4_score = precise(data[col], mylist.max(), 100).mean()\n",
    "            m5_score = precise(data[col], mylist.mode()[0], 100).mean()\n",
    "            freq['wtid'].append(wtid_v)\n",
    "            freq['feature'].append(col)\n",
    "            freq['feature_nunique'].append(mylist.nunique())\n",
    "            freq['mode_ratio'].append(mylist_mode_ratio.values[0])\n",
    "            freq['std'].append(mylist.std())\n",
    "            freq['min'].append(mylist.min())\n",
    "            freq['mean'].append(mylist.mean())\n",
    "            freq['median'].append(mylist.median())\n",
    "            freq['max'].append(mylist.max())\n",
    "            freq['mode'].append(mylist.mode()[0])\n",
    "            freq['mean_score'].append(m2_score)\n",
    "            freq['median_score'].append(m3_score)\n",
    "            freq['mode_score'].append(m5_score)\n",
    "    rule = pd.DataFrame(freq)\n",
    "    save_path = '../data/'\n",
    "    if not os.path.exists(save_path):\n",
    "        print(save_path)\n",
    "        os.makedirs(save_path)\n",
    "    rule.to_csv('../data/rule33.csv', index=False)"
   ]
  },
  {
   "cell_type": "code",
   "execution_count": 7,
   "metadata": {},
   "outputs": [],
   "source": [
    "col_1 = ['var001', 'var002', 'var003', 'var004', 'var005', 'var006',\n",
    "       'var007', 'var008', 'var009', 'var010', 'var011', 'var012', 'var013',\n",
    "       'var014', 'var015', 'var016', 'var017', 'var018', 'var019', 'var020',\n",
    "       'var021', 'var022', 'var023', 'var024', 'var025', 'var026', 'var027',\n",
    "       'var028', 'var029', 'var030', 'var031', 'var032', 'var033', 'var034',\n",
    "       'var035', 'var036', 'var037', 'var038', 'var039', 'var040', 'var041',\n",
    "       'var042', 'var043', 'var044', 'var045', 'var046', 'var047', 'var048',\n",
    "       'var049', 'var050', 'var051', 'var052', 'var053', 'var054', 'var055',\n",
    "       'var056', 'var057', 'var058', 'var059', 'var060', 'var061', 'var062',\n",
    "       'var063', 'var064', 'var065', 'var066', 'var067', 'var068']\n",
    "linear_col = ['var001','var002','var003','var006','var007',\n",
    "         'var011','var012','var014','var015','var018','var021',\n",
    "         'var022','var024','var027','var028','var029','var030','var031','var033',\n",
    "         'var034','var035','var036','var038','var040', 'var043',\n",
    "         'var045', 'var051','var052','var056','var057','var061','var067',\n",
    "         'var068','var009','var017','var037','var048','var055','var062']"
   ]
  },
  {
   "cell_type": "code",
   "execution_count": 11,
   "metadata": {},
   "outputs": [],
   "source": [
    "\"\"\"以众数频率线下验证插值\"\"\"\n",
    "rule1 = rule[rule['mode_ratio']>0.72]\n",
    "rule2 = rule[(rule['mode_ratio']<=0.72)&(rule['mode_ratio']>0.275)]\n",
    "rule3 = rule[(rule['mode_ratio']<=0.275)&(rule['mode_ratio']>0.055)]"
   ]
  },
  {
   "cell_type": "code",
   "execution_count": 12,
   "metadata": {},
   "outputs": [
    {
     "name": "stdout",
     "output_type": "stream",
     "text": [
      "start shape: (497191, 70)\n"
     ]
    },
    {
     "name": "stderr",
     "output_type": "stream",
     "text": [
      "33it [06:23, 12.02s/it]\n"
     ]
    },
    {
     "name": "stdout",
     "output_type": "stream",
     "text": [
      "end shape: (497191, 70)\n",
      "nan max number: 0\n",
      "Wall time: 6min 23s\n"
     ]
    }
   ],
   "source": [
    "%%time\n",
    "path = '../data/dataset/'\n",
    "df = pd.DataFrame()\n",
    "st = 0\n",
    "print('start shape: {}'.format(sub.shape))\n",
    "for i,z in tqdm(enumerate(os.listdir(path))):\n",
    "    f_path = path + z + '/201807.csv'\n",
    "    wtid_v = int(i + 1)\n",
    "    data = pd.read_csv(f_path, parse_dates=['ts'])\n",
    "    \n",
    "    sub_1 = sub[sub['wtid'] == wtid_v]\n",
    "    st += len(sub_1)\n",
    "    ts_v = list(set(data['ts'].values)&set(sub_1['ts'].values))\n",
    "    submit = sub_1[~sub_1['ts'].isin(ts_v)]\n",
    "    data = pd.concat([data,submit],axis=0)\n",
    "    data = data.sort_values(by=['wtid', 'ts']).reset_index(drop=True)\n",
    "    mode_rule1 = rule1[rule1['wtid'] == wtid_v]['feature'].values.tolist()\n",
    "    mode_rule2 = rule2[rule2['wtid'] == wtid_v]['feature'].values.tolist()\n",
    "    mode_rule3 = rule3[rule3['wtid'] == wtid_v]['feature'].values.tolist()\n",
    "    data = data.set_index('ts')\n",
    "    \"\"\"插值填充\"\"\"\n",
    "    data['var053'] = data['var053'].interpolate()\n",
    "    for j in col_1: \n",
    "        if j in mode_rule1:\n",
    "            data[j] = data[j].interpolate(method='nearest',limit=6)\n",
    "            data[j] = data[j].fillna(data[j].value_counts().index[0])\n",
    "        elif j in mode_rule2:\n",
    "            data[j] = data[j].rolling('3T').median()\n",
    "            data[j] = data[j].interpolate(method='nearest',limit=5)\n",
    "            data[j] = data[j].fillna(data[j].value_counts().index[0])\n",
    "        elif j in mode_rule3 + ['var034', 'var056', 'var059', 'var068']:\n",
    "            data[j] = data[j].rolling('2T').median()\n",
    "            data[j] = data[j].interpolate(method='nearest')\n",
    "        elif j in ['var016','var020','var047','var066']:\n",
    "            data[j] = data[j].interpolate(method='nearest',limit = 6)\n",
    "            data[j] = data[j].fillna(0)\n",
    "        elif j in linear_col:\n",
    "            data[j] = data[j].rolling('T').mean()\n",
    "            data[j] = data[j].interpolate()     \n",
    "        else:\n",
    "            data[j] = data[j].interpolate(method='nearest')\n",
    "            \n",
    "    data = data.reset_index()\n",
    "    sub_1 = sub_1[['ts','wtid']].merge(data,on=['ts','wtid'],how='left')\n",
    "    df = pd.concat([df,sub_1],axis=0)\n",
    "    del data; gc.collect()\n",
    "print('end shape: {}'.format(df.shape))\n",
    "print('nan max number: {}'.format(df.isnull().sum().max()))"
   ]
  },
  {
   "cell_type": "code",
   "execution_count": null,
   "metadata": {},
   "outputs": [],
   "source": [
    "sub = sub[['ts','wtid']].merge(df, on=['ts','wtid'], how='left')"
   ]
  },
  {
   "cell_type": "code",
   "execution_count": 2,
   "metadata": {},
   "outputs": [],
   "source": [
    "sub['var008'] = 0\n",
    "sub['var053'] = sub['var053'].abs().round()\n",
    "for i in ['var016', 'var020', 'var047', 'var066']:\n",
    "        sub[i] = sub[i].astype('int32')\n",
    "sub['var053'] = sub['var053'].astype('int32')\n",
    "for col in sub.columns[2:]:\n",
    "    sub[col] = sub[col].round(2)"
   ]
  },
  {
   "cell_type": "code",
   "execution_count": 2,
   "metadata": {},
   "outputs": [
    {
     "name": "stdout",
     "output_type": "stream",
     "text": [
      "../data/submi/\n"
     ]
    }
   ],
   "source": [
    "save_path = '../data/submit/'\n",
    "if not os.path.exists(save_path):\n",
    "    print(save_path)\n",
    "    os.makedirs(save_path)\n",
    "sub.to_csv(save_path+'pink_1.csv',index=False)"
   ]
  },
  {
   "cell_type": "code",
   "execution_count": null,
   "metadata": {},
   "outputs": [],
   "source": []
  }
 ],
 "metadata": {
  "kernelspec": {
   "display_name": "Python 3",
   "language": "python",
   "name": "python3"
  },
  "language_info": {
   "codemirror_mode": {
    "name": "ipython",
    "version": 3
   },
   "file_extension": ".py",
   "mimetype": "text/x-python",
   "name": "python",
   "nbconvert_exporter": "python",
   "pygments_lexer": "ipython3",
   "version": "3.6.5"
  }
 },
 "nbformat": 4,
 "nbformat_minor": 2
}
