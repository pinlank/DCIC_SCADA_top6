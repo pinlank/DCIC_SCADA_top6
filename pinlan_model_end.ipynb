{
 "cells": [
  {
   "cell_type": "code",
   "execution_count": 1,
   "metadata": {},
   "outputs": [],
   "source": [
    "import pandas as pd \n",
    "import numpy as np\n",
    "import math\n",
    "import os\n",
    "import gc\n",
    "import sys\n",
    "import pickle\n",
    "from tqdm import *\n",
    "import time\n",
    "import matplotlib.pyplot as plt\n",
    "%matplotlib inline\n",
    "from collections import Counter, defaultdict\n",
    "import itertools\n",
    "from sklearn.metrics import accuracy_score\n",
    "import lightgbm as lgb\n",
    "from sklearn.model_selection import KFold, RepeatedKFold,train_test_split,StratifiedKFold\n",
    "from sklearn.preprocessing import OneHotEncoder, LabelEncoder\n",
    "import warnings\n",
    "import re\n",
    "import datetime\n",
    "from utils import *\n",
    "from sklearn.metrics import mean_squared_error, mean_absolute_error\n",
    "import seaborn as sns\n",
    "color = sns.color_palette()\n",
    "sns.set(style=\"whitegrid\")\n",
    "%matplotlib inline\n",
    "warnings.simplefilter(action='ignore', category=FutureWarning)\n",
    "warnings.filterwarnings(\"ignore\")"
   ]
  },
  {
   "cell_type": "code",
   "execution_count": 4,
   "metadata": {},
   "outputs": [],
   "source": [
    "huafen = [[1,  2,  3,  4],  [5,  6,  7,  8],  [9, 10, 11, 12], [13, 14, 15, 16],\n",
    " [17,18, 19, 20], [21, 22, 23, 24], [25, 26, 27, 28], [29, 30, 31, 32, 33]]"
   ]
  },
  {
   "cell_type": "code",
   "execution_count": 5,
   "metadata": {},
   "outputs": [],
   "source": [
    "sub = pd.read_csv('../data/template_submit_result.csv',parse_dates=['ts'])\n",
    "col = sub.columns.tolist()\n",
    "index = ['ts', 'wtid']\n",
    "enum_col = ['var016', 'var020', 'var047']\n",
    "bool_col = ['var053', 'var066']\n",
    "double_col = [i for i in col if i not in index+enum_col+bool_col]"
   ]
  },
  {
   "cell_type": "code",
   "execution_count": 9,
   "metadata": {},
   "outputs": [],
   "source": [
    "%%time\n",
    "\"\"\"修改路径\"\"\"\n",
    "path = '../data/dataset/'\n",
    "df = pd.DataFrame()\n",
    "for j in tqdm(huafen):\n",
    "    all_data = pd.DataFrame()\n",
    "    sub_kk = pd.DataFrame()\n",
    "    for i in j:\n",
    "        f_path = path + str(i).zfill(3) + '/201807.csv'\n",
    "        wtid_v = int(i)\n",
    "        data = pd.read_csv(f_path,parse_dates=['ts'])\n",
    "\n",
    "        sub_1 = sub[sub['wtid'] == wtid_v]\n",
    "        ts_v = list(set(data['ts'].values)&set(sub_1['ts'].values))\n",
    "        submit = sub_1[~sub_1['ts'].isin(ts_v)]\n",
    "        data = pd.concat([data,submit],axis=0)\n",
    "        data = data.sort_values(by=['wtid', 'ts']).reset_index(drop=True)\n",
    "        all_data = all_data.append(data)\n",
    "        sub_kk = sub_kk.append(sub_1)\n",
    "    all_data = all_data.sort_values(by=['wtid', 'ts']).reset_index(drop=True)\n",
    "    all_data['row_nulls'] = all_data.isnull().sum(axis=1)\n",
    "    for i in ['day', 'week', 'hour', 'minute', 'second']:\n",
    "        all_data[i] = time_extact(all_data['ts'],i)\n",
    "    all_data['T_rank'] = all_data['minute'] + all_data['hour']*60\n",
    "    all_data['S_rank'] = all_data['minute']*60 + all_data['second']\n",
    "    train = all_data[all_data['row_nulls'].isin([0])]\n",
    "    test = all_data[all_data['row_nulls'].isin([8])]\n",
    "    fe_col = test[test.notnull()].columns.tolist()\n",
    "    fe_col.remove('ts')\n",
    "    model_fe =  ['var004', 'var042', 'var046', 'var060']\n",
    "    for k in model_fe:\n",
    "        lgb_model = lgb.LGBMRegressor(learning_rate=0.1, num_leaves=2**9, n_estimators=200, random_state=99, n_jobs=6)#167\n",
    "        lgb_model.fit(train[fe_col], train[k])\n",
    "        all_data.loc[test.index, k] = lgb_model.predict(test[fe_col])\n",
    "    model_fe =  ['var027', 'var043', 'var061', 'var068']\n",
    "#     train = all_data[all_data['row_nulls'].isin([0,8])]\n",
    "#     test = all_data[all_data['row_nulls'].isin([19,27])]\n",
    "    train = all_data[all_data['row_nulls'].isin([0])]\n",
    "    test = all_data[all_data['row_nulls'].isin([19])]\n",
    "    fe_col = test[test.notnull()].columns.tolist()\n",
    "    fe_col.remove('ts')\n",
    "    for k in model_fe:\n",
    "        lgb_model = lgb.LGBMRegressor(num_leaves=2**9, n_estimators=187, random_state=99, n_jobs=6)#187\n",
    "        lgb_model.fit(train[fe_col], train[k])\n",
    "        all_data.loc[test.index, k] = lgb_model.predict(test[fe_col])\n",
    "    for i in ['var008', 'var016', 'var020', 'var047', 'var066']:\n",
    "        all_data[i] = 0\n",
    "    for i in ['var001', 'var005', 'var038', 'var053', 'var060', 'var061']:\n",
    "        all_data[i] = all_data[i].interpolate(method='linear')\n",
    "    ddf = ['var002', 'var003', 'var006', 'var007', 'var011', 'var012', \n",
    "     'var014', 'var018', 'var021', 'var022', 'var024', 'var028', \n",
    "     'var029', 'var030', 'var033', 'var035', 'var036', 'var037', 'var040', \n",
    "     'var045', 'var051', 'var052', 'var055', 'var057', 'var062', 'var067']\n",
    "    for i in ddf:\n",
    "        all_data[i] = all_data[i].interpolate(method='linear')\n",
    "    all_data['var053'] = all_data['var053'].abs().round()\n",
    "    all_data = all_data.interpolate(method='nearest', axis=0)\n",
    "    \"\"\"值域外截断\"\"\"\n",
    "    all_data['var060'] = all_data['var060'].map(lambda x: 50.04 if x > 50.04 else x)\n",
    "    all_data['var060'] = all_data['var060'].map(lambda x: 49.90 if x<49.90 else x)\n",
    "    all_data['var043'] = all_data['var043'].map(lambda x: 0 if x < 0.3 else x)\n",
    "    \n",
    "    sub_kk = sub_kk[['wtid','ts']].merge(all_data,on=['wtid','ts'],how='left')\n",
    "    df = df.append(sub_kk)\n",
    "    del all_data;gc.collect()\n",
    "print('end shape: {}'.format(df.shape))\n",
    "print('nan max number: {}'.format(df.isnull().sum().max()))"
   ]
  },
  {
   "cell_type": "code",
   "execution_count": 8,
   "metadata": {},
   "outputs": [],
   "source": [
    "sub = sub[['ts','wtid']].merge(df, on=['ts','wtid'], how='left')"
   ]
  },
  {
   "cell_type": "code",
   "execution_count": 9,
   "metadata": {},
   "outputs": [],
   "source": [
    "sub = sub[col]"
   ]
  },
  {
   "cell_type": "code",
   "execution_count": 10,
   "metadata": {},
   "outputs": [],
   "source": [
    "for i in ['var016', 'var020', 'var047', 'var053', 'var066']:\n",
    "    sub[i] = sub[i].astype('int32')\n",
    "for col in sub.columns[2:]:\n",
    "    sub[col] = sub[col].round(2)"
   ]
  },
  {
   "cell_type": "code",
   "execution_count": 11,
   "metadata": {},
   "outputs": [],
   "source": [
    "pink_1 = pd.read_csv('../data/submit/pink_1.csv', index=False)\n",
    "\"\"\"融合替换\"\"\"\n",
    "asd = ['var027', 'var068', 'var004', 'var042', 'var046', 'var060', 'var043', 'var061']\n",
    "for i in asd:\n",
    "    pink_1[i] = sub[i].values\n",
    "pink_1.to_csv('../data/submit/pink_2.csv',index=False)"
   ]
  },
  {
   "cell_type": "code",
   "execution_count": null,
   "metadata": {},
   "outputs": [],
   "source": []
  },
  {
   "cell_type": "code",
   "execution_count": null,
   "metadata": {},
   "outputs": [],
   "source": []
  }
 ],
 "metadata": {
  "kernelspec": {
   "display_name": "Python 3",
   "language": "python",
   "name": "python3"
  },
  "language_info": {
   "codemirror_mode": {
    "name": "ipython",
    "version": 3
   },
   "file_extension": ".py",
   "mimetype": "text/x-python",
   "name": "python",
   "nbconvert_exporter": "python",
   "pygments_lexer": "ipython3",
   "version": "3.6.5"
  }
 },
 "nbformat": 4,
 "nbformat_minor": 2
}
